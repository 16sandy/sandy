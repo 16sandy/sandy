{
 "cells": [
  {
   "cell_type": "code",
   "execution_count": 1,
   "id": "7039d7c9",
   "metadata": {},
   "outputs": [],
   "source": [
    "import numpy as np\n",
    "import pandas as pd\n",
    "from sklearn.linear_model import LinearRegression\n",
    "from sklearn.metrics import r2_score,mean_absolute_error,mean_squared_error\n",
    "from sklearn.feature_selection import RFECV,RFE\n",
    "import seaborn as sns\n",
    "from sklearn.model_selection import train_test_split\n",
    "from statsmodels.stats.outliers_influence import variance_inflation_factor\n",
    "import matplotlib.pyplot as plt\n",
    "%matplotlib inline"
   ]
  },
  {
   "cell_type": "code",
   "execution_count": 2,
   "id": "4775c91a",
   "metadata": {},
   "outputs": [
    {
     "data": {
      "text/html": [
       "<div>\n",
       "<style scoped>\n",
       "    .dataframe tbody tr th:only-of-type {\n",
       "        vertical-align: middle;\n",
       "    }\n",
       "\n",
       "    .dataframe tbody tr th {\n",
       "        vertical-align: top;\n",
       "    }\n",
       "\n",
       "    .dataframe thead th {\n",
       "        text-align: right;\n",
       "    }\n",
       "</style>\n",
       "<table border=\"1\" class=\"dataframe\">\n",
       "  <thead>\n",
       "    <tr style=\"text-align: right;\">\n",
       "      <th></th>\n",
       "      <th>instant</th>\n",
       "      <th>dteday</th>\n",
       "      <th>season</th>\n",
       "      <th>yr</th>\n",
       "      <th>mnth</th>\n",
       "      <th>holiday</th>\n",
       "      <th>weekday</th>\n",
       "      <th>workingday</th>\n",
       "      <th>weathersit</th>\n",
       "      <th>temp</th>\n",
       "      <th>atemp</th>\n",
       "      <th>hum</th>\n",
       "      <th>windspeed</th>\n",
       "      <th>casual</th>\n",
       "      <th>registered</th>\n",
       "      <th>cnt</th>\n",
       "    </tr>\n",
       "  </thead>\n",
       "  <tbody>\n",
       "    <tr>\n",
       "      <th>0</th>\n",
       "      <td>1</td>\n",
       "      <td>01-01-2018</td>\n",
       "      <td>1</td>\n",
       "      <td>0</td>\n",
       "      <td>1</td>\n",
       "      <td>0</td>\n",
       "      <td>1</td>\n",
       "      <td>1</td>\n",
       "      <td>2</td>\n",
       "      <td>14.110847</td>\n",
       "      <td>18.18125</td>\n",
       "      <td>80.5833</td>\n",
       "      <td>10.749882</td>\n",
       "      <td>331</td>\n",
       "      <td>654</td>\n",
       "      <td>985</td>\n",
       "    </tr>\n",
       "    <tr>\n",
       "      <th>1</th>\n",
       "      <td>2</td>\n",
       "      <td>02-01-2018</td>\n",
       "      <td>1</td>\n",
       "      <td>0</td>\n",
       "      <td>1</td>\n",
       "      <td>0</td>\n",
       "      <td>2</td>\n",
       "      <td>1</td>\n",
       "      <td>2</td>\n",
       "      <td>14.902598</td>\n",
       "      <td>17.68695</td>\n",
       "      <td>69.6087</td>\n",
       "      <td>16.652113</td>\n",
       "      <td>131</td>\n",
       "      <td>670</td>\n",
       "      <td>801</td>\n",
       "    </tr>\n",
       "    <tr>\n",
       "      <th>2</th>\n",
       "      <td>3</td>\n",
       "      <td>03-01-2018</td>\n",
       "      <td>1</td>\n",
       "      <td>0</td>\n",
       "      <td>1</td>\n",
       "      <td>0</td>\n",
       "      <td>3</td>\n",
       "      <td>1</td>\n",
       "      <td>1</td>\n",
       "      <td>8.050924</td>\n",
       "      <td>9.47025</td>\n",
       "      <td>43.7273</td>\n",
       "      <td>16.636703</td>\n",
       "      <td>120</td>\n",
       "      <td>1229</td>\n",
       "      <td>1349</td>\n",
       "    </tr>\n",
       "    <tr>\n",
       "      <th>3</th>\n",
       "      <td>4</td>\n",
       "      <td>04-01-2018</td>\n",
       "      <td>1</td>\n",
       "      <td>0</td>\n",
       "      <td>1</td>\n",
       "      <td>0</td>\n",
       "      <td>4</td>\n",
       "      <td>1</td>\n",
       "      <td>1</td>\n",
       "      <td>8.200000</td>\n",
       "      <td>10.60610</td>\n",
       "      <td>59.0435</td>\n",
       "      <td>10.739832</td>\n",
       "      <td>108</td>\n",
       "      <td>1454</td>\n",
       "      <td>1562</td>\n",
       "    </tr>\n",
       "    <tr>\n",
       "      <th>4</th>\n",
       "      <td>5</td>\n",
       "      <td>05-01-2018</td>\n",
       "      <td>1</td>\n",
       "      <td>0</td>\n",
       "      <td>1</td>\n",
       "      <td>0</td>\n",
       "      <td>5</td>\n",
       "      <td>1</td>\n",
       "      <td>1</td>\n",
       "      <td>9.305237</td>\n",
       "      <td>11.46350</td>\n",
       "      <td>43.6957</td>\n",
       "      <td>12.522300</td>\n",
       "      <td>82</td>\n",
       "      <td>1518</td>\n",
       "      <td>1600</td>\n",
       "    </tr>\n",
       "    <tr>\n",
       "      <th>...</th>\n",
       "      <td>...</td>\n",
       "      <td>...</td>\n",
       "      <td>...</td>\n",
       "      <td>...</td>\n",
       "      <td>...</td>\n",
       "      <td>...</td>\n",
       "      <td>...</td>\n",
       "      <td>...</td>\n",
       "      <td>...</td>\n",
       "      <td>...</td>\n",
       "      <td>...</td>\n",
       "      <td>...</td>\n",
       "      <td>...</td>\n",
       "      <td>...</td>\n",
       "      <td>...</td>\n",
       "      <td>...</td>\n",
       "    </tr>\n",
       "    <tr>\n",
       "      <th>725</th>\n",
       "      <td>726</td>\n",
       "      <td>27-12-2019</td>\n",
       "      <td>1</td>\n",
       "      <td>1</td>\n",
       "      <td>12</td>\n",
       "      <td>0</td>\n",
       "      <td>5</td>\n",
       "      <td>1</td>\n",
       "      <td>2</td>\n",
       "      <td>10.420847</td>\n",
       "      <td>11.33210</td>\n",
       "      <td>65.2917</td>\n",
       "      <td>23.458911</td>\n",
       "      <td>247</td>\n",
       "      <td>1867</td>\n",
       "      <td>2114</td>\n",
       "    </tr>\n",
       "    <tr>\n",
       "      <th>726</th>\n",
       "      <td>727</td>\n",
       "      <td>28-12-2019</td>\n",
       "      <td>1</td>\n",
       "      <td>1</td>\n",
       "      <td>12</td>\n",
       "      <td>0</td>\n",
       "      <td>6</td>\n",
       "      <td>0</td>\n",
       "      <td>2</td>\n",
       "      <td>10.386653</td>\n",
       "      <td>12.75230</td>\n",
       "      <td>59.0000</td>\n",
       "      <td>10.416557</td>\n",
       "      <td>644</td>\n",
       "      <td>2451</td>\n",
       "      <td>3095</td>\n",
       "    </tr>\n",
       "    <tr>\n",
       "      <th>727</th>\n",
       "      <td>728</td>\n",
       "      <td>29-12-2019</td>\n",
       "      <td>1</td>\n",
       "      <td>1</td>\n",
       "      <td>12</td>\n",
       "      <td>0</td>\n",
       "      <td>0</td>\n",
       "      <td>0</td>\n",
       "      <td>2</td>\n",
       "      <td>10.386653</td>\n",
       "      <td>12.12000</td>\n",
       "      <td>75.2917</td>\n",
       "      <td>8.333661</td>\n",
       "      <td>159</td>\n",
       "      <td>1182</td>\n",
       "      <td>1341</td>\n",
       "    </tr>\n",
       "    <tr>\n",
       "      <th>728</th>\n",
       "      <td>729</td>\n",
       "      <td>30-12-2019</td>\n",
       "      <td>1</td>\n",
       "      <td>1</td>\n",
       "      <td>12</td>\n",
       "      <td>0</td>\n",
       "      <td>1</td>\n",
       "      <td>1</td>\n",
       "      <td>1</td>\n",
       "      <td>10.489153</td>\n",
       "      <td>11.58500</td>\n",
       "      <td>48.3333</td>\n",
       "      <td>23.500518</td>\n",
       "      <td>364</td>\n",
       "      <td>1432</td>\n",
       "      <td>1796</td>\n",
       "    </tr>\n",
       "    <tr>\n",
       "      <th>729</th>\n",
       "      <td>730</td>\n",
       "      <td>31-12-2019</td>\n",
       "      <td>1</td>\n",
       "      <td>1</td>\n",
       "      <td>12</td>\n",
       "      <td>0</td>\n",
       "      <td>2</td>\n",
       "      <td>1</td>\n",
       "      <td>2</td>\n",
       "      <td>8.849153</td>\n",
       "      <td>11.17435</td>\n",
       "      <td>57.7500</td>\n",
       "      <td>10.374682</td>\n",
       "      <td>439</td>\n",
       "      <td>2290</td>\n",
       "      <td>2729</td>\n",
       "    </tr>\n",
       "  </tbody>\n",
       "</table>\n",
       "<p>730 rows × 16 columns</p>\n",
       "</div>"
      ],
      "text/plain": [
       "     instant      dteday  season  yr  mnth  holiday  weekday  workingday  \\\n",
       "0          1  01-01-2018       1   0     1        0        1           1   \n",
       "1          2  02-01-2018       1   0     1        0        2           1   \n",
       "2          3  03-01-2018       1   0     1        0        3           1   \n",
       "3          4  04-01-2018       1   0     1        0        4           1   \n",
       "4          5  05-01-2018       1   0     1        0        5           1   \n",
       "..       ...         ...     ...  ..   ...      ...      ...         ...   \n",
       "725      726  27-12-2019       1   1    12        0        5           1   \n",
       "726      727  28-12-2019       1   1    12        0        6           0   \n",
       "727      728  29-12-2019       1   1    12        0        0           0   \n",
       "728      729  30-12-2019       1   1    12        0        1           1   \n",
       "729      730  31-12-2019       1   1    12        0        2           1   \n",
       "\n",
       "     weathersit       temp     atemp      hum  windspeed  casual  registered  \\\n",
       "0             2  14.110847  18.18125  80.5833  10.749882     331         654   \n",
       "1             2  14.902598  17.68695  69.6087  16.652113     131         670   \n",
       "2             1   8.050924   9.47025  43.7273  16.636703     120        1229   \n",
       "3             1   8.200000  10.60610  59.0435  10.739832     108        1454   \n",
       "4             1   9.305237  11.46350  43.6957  12.522300      82        1518   \n",
       "..          ...        ...       ...      ...        ...     ...         ...   \n",
       "725           2  10.420847  11.33210  65.2917  23.458911     247        1867   \n",
       "726           2  10.386653  12.75230  59.0000  10.416557     644        2451   \n",
       "727           2  10.386653  12.12000  75.2917   8.333661     159        1182   \n",
       "728           1  10.489153  11.58500  48.3333  23.500518     364        1432   \n",
       "729           2   8.849153  11.17435  57.7500  10.374682     439        2290   \n",
       "\n",
       "      cnt  \n",
       "0     985  \n",
       "1     801  \n",
       "2    1349  \n",
       "3    1562  \n",
       "4    1600  \n",
       "..    ...  \n",
       "725  2114  \n",
       "726  3095  \n",
       "727  1341  \n",
       "728  1796  \n",
       "729  2729  \n",
       "\n",
       "[730 rows x 16 columns]"
      ]
     },
     "execution_count": 2,
     "metadata": {},
     "output_type": "execute_result"
    }
   ],
   "source": [
    "data=pd.read_csv('day.csv')\n",
    "data"
   ]
  },
  {
   "cell_type": "code",
   "execution_count": 3,
   "id": "3457de9f",
   "metadata": {},
   "outputs": [],
   "source": [
    "data=data.drop(['dteday'],axis=1)"
   ]
  },
  {
   "cell_type": "code",
   "execution_count": 4,
   "id": "8a49dd6e",
   "metadata": {},
   "outputs": [
    {
     "data": {
      "image/png": "[encoded data removed]",
      "text/plain": [
       "<Figure size 432x288 with 1 Axes>"
      ]
     },
     "metadata": {
      "needs_background": "light"
     },
     "output_type": "display_data"
    },
    {
     "data": {
      "image/png": "[encoded data removed]",
      "text/plain": [
       "<Figure size 432x288 with 1 Axes>"
      ]
     },
     "metadata": {
      "needs_background": "light"
     },
     "output_type": "display_data"
    },
    {
     "data": {
      "image/png": "[encoded data removed]",
      "text/plain": [
       "<Figure size 432x288 with 1 Axes>"
      ]
     },
     "metadata": {
      "needs_background": "light"
     },
     "output_type": "display_data"
    },
    {
     "data": {
      "image/png": "[encoded data removed]",
      "text/plain": [
       "<Figure size 432x288 with 1 Axes>"
      ]
     },
     "metadata": {
      "needs_background": "light"
     },
     "output_type": "display_data"
    },
    {
     "data": {
      "image/png": "[encoded data removed]",
      "text/plain": [
       "<Figure size 432x288 with 1 Axes>"
      ]
     },
     "metadata": {
      "needs_background": "light"
     },
     "output_type": "display_data"
    },
    {
     "data": {
      "image/png": "[encoded data removed]",
      "text/plain": [
       "<Figure size 432x288 with 1 Axes>"
      ]
     },
     "metadata": {
      "needs_background": "light"
     },
     "output_type": "display_data"
    },
    {
     "data": {
      "image/png": "[encoded data removed]",
      "text/plain": [
       "<Figure size 432x288 with 1 Axes>"
      ]
     },
     "metadata": {
      "needs_background": "light"
     },
     "output_type": "display_data"
    },
    {
     "data": {
      "image/png": "[encoded data removed]",
      "text/plain": [
       "<Figure size 432x288 with 1 Axes>"
      ]
     },
     "metadata": {
      "needs_background": "light"
     },
     "output_type": "display_data"
    },
    {
     "data": {
      "image/png": "[encoded data removed]",
      "text/plain": [
       "<Figure size 432x288 with 1 Axes>"
      ]
     },
     "metadata": {
      "needs_background": "light"
     },
     "output_type": "display_data"
    },
    {
     "data": {
      "image/png": "[encoded data removed]",
      "text/plain": [
       "<Figure size 432x288 with 1 Axes>"
      ]
     },
     "metadata": {
      "needs_background": "light"
     },
     "output_type": "display_data"
    },
    {
     "data": {
      "image/png": "[encoded data removed]",
      "text/plain": [
       "<Figure size 432x288 with 1 Axes>"
      ]
     },
     "metadata": {
      "needs_background": "light"
     },
     "output_type": "display_data"
    },
    {
     "data": {
      "image/png": "[encoded data removed]",
      "text/plain": [
       "<Figure size 432x288 with 1 Axes>"
      ]
     },
     "metadata": {
      "needs_background": "light"
     },
     "output_type": "display_data"
    },
    {
     "data": {
      "image/png": "[encoded data removed]",
      "text/plain": [
       "<Figure size 432x288 with 1 Axes>"
      ]
     },
     "metadata": {
      "needs_background": "light"
     },
     "output_type": "display_data"
    },
    {
     "data": {
      "image/png": "[encoded data removed]",
      "text/plain": [
       "<Figure size 432x288 with 1 Axes>"
      ]
     },
     "metadata": {
      "needs_background": "light"
     },
     "output_type": "display_data"
    },
    {
     "data": {
      "image/png": "[encoded data removed]",
      "text/plain": [
       "<Figure size 432x288 with 1 Axes>"
      ]
     },
     "metadata": {
      "needs_background": "light"
     },
     "output_type": "display_data"
    },
    {
     "data": {
      "text/plain": [
       "<Figure size 432x288 with 0 Axes>"
      ]
     },
     "metadata": {},
     "output_type": "display_data"
    }
   ],
   "source": [
    "for column in data:\n",
    "    data.boxplot([column])\n",
    "    plt.figure()"
   ]
  },
  {
   "cell_type": "code",
   "execution_count": 5,
   "id": "38cbb44a",
   "metadata": {},
   "outputs": [
    {
     "data": {
      "text/html": [
       "<div>\n",
       "<style scoped>\n",
       "    .dataframe tbody tr th:only-of-type {\n",
       "        vertical-align: middle;\n",
       "    }\n",
       "\n",
       "    .dataframe tbody tr th {\n",
       "        vertical-align: top;\n",
       "    }\n",
       "\n",
       "    .dataframe thead th {\n",
       "        text-align: right;\n",
       "    }\n",
       "</style>\n",
       "<table border=\"1\" class=\"dataframe\">\n",
       "  <thead>\n",
       "    <tr style=\"text-align: right;\">\n",
       "      <th></th>\n",
       "      <th>instant</th>\n",
       "      <th>season</th>\n",
       "      <th>yr</th>\n",
       "      <th>mnth</th>\n",
       "      <th>holiday</th>\n",
       "      <th>weekday</th>\n",
       "      <th>workingday</th>\n",
       "      <th>weathersit</th>\n",
       "      <th>temp</th>\n",
       "      <th>atemp</th>\n",
       "      <th>hum</th>\n",
       "      <th>windspeed</th>\n",
       "      <th>casual</th>\n",
       "      <th>registered</th>\n",
       "      <th>cnt</th>\n",
       "    </tr>\n",
       "  </thead>\n",
       "  <tbody>\n",
       "    <tr>\n",
       "      <th>0</th>\n",
       "      <td>1</td>\n",
       "      <td>1</td>\n",
       "      <td>0</td>\n",
       "      <td>1</td>\n",
       "      <td>0</td>\n",
       "      <td>1</td>\n",
       "      <td>1</td>\n",
       "      <td>2</td>\n",
       "      <td>14.110847</td>\n",
       "      <td>18.18125</td>\n",
       "      <td>80.5833</td>\n",
       "      <td>10.749882</td>\n",
       "      <td>331</td>\n",
       "      <td>654</td>\n",
       "      <td>985</td>\n",
       "    </tr>\n",
       "    <tr>\n",
       "      <th>1</th>\n",
       "      <td>2</td>\n",
       "      <td>1</td>\n",
       "      <td>0</td>\n",
       "      <td>1</td>\n",
       "      <td>0</td>\n",
       "      <td>2</td>\n",
       "      <td>1</td>\n",
       "      <td>2</td>\n",
       "      <td>14.902598</td>\n",
       "      <td>17.68695</td>\n",
       "      <td>69.6087</td>\n",
       "      <td>16.652113</td>\n",
       "      <td>131</td>\n",
       "      <td>670</td>\n",
       "      <td>801</td>\n",
       "    </tr>\n",
       "    <tr>\n",
       "      <th>2</th>\n",
       "      <td>3</td>\n",
       "      <td>1</td>\n",
       "      <td>0</td>\n",
       "      <td>1</td>\n",
       "      <td>0</td>\n",
       "      <td>3</td>\n",
       "      <td>1</td>\n",
       "      <td>1</td>\n",
       "      <td>8.050924</td>\n",
       "      <td>9.47025</td>\n",
       "      <td>43.7273</td>\n",
       "      <td>16.636703</td>\n",
       "      <td>120</td>\n",
       "      <td>1229</td>\n",
       "      <td>1349</td>\n",
       "    </tr>\n",
       "    <tr>\n",
       "      <th>3</th>\n",
       "      <td>4</td>\n",
       "      <td>1</td>\n",
       "      <td>0</td>\n",
       "      <td>1</td>\n",
       "      <td>0</td>\n",
       "      <td>4</td>\n",
       "      <td>1</td>\n",
       "      <td>1</td>\n",
       "      <td>8.200000</td>\n",
       "      <td>10.60610</td>\n",
       "      <td>59.0435</td>\n",
       "      <td>10.739832</td>\n",
       "      <td>108</td>\n",
       "      <td>1454</td>\n",
       "      <td>1562</td>\n",
       "    </tr>\n",
       "    <tr>\n",
       "      <th>4</th>\n",
       "      <td>5</td>\n",
       "      <td>1</td>\n",
       "      <td>0</td>\n",
       "      <td>1</td>\n",
       "      <td>0</td>\n",
       "      <td>5</td>\n",
       "      <td>1</td>\n",
       "      <td>1</td>\n",
       "      <td>9.305237</td>\n",
       "      <td>11.46350</td>\n",
       "      <td>43.6957</td>\n",
       "      <td>12.522300</td>\n",
       "      <td>82</td>\n",
       "      <td>1518</td>\n",
       "      <td>1600</td>\n",
       "    </tr>\n",
       "    <tr>\n",
       "      <th>...</th>\n",
       "      <td>...</td>\n",
       "      <td>...</td>\n",
       "      <td>...</td>\n",
       "      <td>...</td>\n",
       "      <td>...</td>\n",
       "      <td>...</td>\n",
       "      <td>...</td>\n",
       "      <td>...</td>\n",
       "      <td>...</td>\n",
       "      <td>...</td>\n",
       "      <td>...</td>\n",
       "      <td>...</td>\n",
       "      <td>...</td>\n",
       "      <td>...</td>\n",
       "      <td>...</td>\n",
       "    </tr>\n",
       "    <tr>\n",
       "      <th>725</th>\n",
       "      <td>726</td>\n",
       "      <td>1</td>\n",
       "      <td>1</td>\n",
       "      <td>12</td>\n",
       "      <td>0</td>\n",
       "      <td>5</td>\n",
       "      <td>1</td>\n",
       "      <td>2</td>\n",
       "      <td>10.420847</td>\n",
       "      <td>11.33210</td>\n",
       "      <td>65.2917</td>\n",
       "      <td>23.458911</td>\n",
       "      <td>247</td>\n",
       "      <td>1867</td>\n",
       "      <td>2114</td>\n",
       "    </tr>\n",
       "    <tr>\n",
       "      <th>726</th>\n",
       "      <td>727</td>\n",
       "      <td>1</td>\n",
       "      <td>1</td>\n",
       "      <td>12</td>\n",
       "      <td>0</td>\n",
       "      <td>6</td>\n",
       "      <td>0</td>\n",
       "      <td>2</td>\n",
       "      <td>10.386653</td>\n",
       "      <td>12.75230</td>\n",
       "      <td>59.0000</td>\n",
       "      <td>10.416557</td>\n",
       "      <td>644</td>\n",
       "      <td>2451</td>\n",
       "      <td>3095</td>\n",
       "    </tr>\n",
       "    <tr>\n",
       "      <th>727</th>\n",
       "      <td>728</td>\n",
       "      <td>1</td>\n",
       "      <td>1</td>\n",
       "      <td>12</td>\n",
       "      <td>0</td>\n",
       "      <td>0</td>\n",
       "      <td>0</td>\n",
       "      <td>2</td>\n",
       "      <td>10.386653</td>\n",
       "      <td>12.12000</td>\n",
       "      <td>75.2917</td>\n",
       "      <td>8.333661</td>\n",
       "      <td>159</td>\n",
       "      <td>1182</td>\n",
       "      <td>1341</td>\n",
       "    </tr>\n",
       "    <tr>\n",
       "      <th>728</th>\n",
       "      <td>729</td>\n",
       "      <td>1</td>\n",
       "      <td>1</td>\n",
       "      <td>12</td>\n",
       "      <td>0</td>\n",
       "      <td>1</td>\n",
       "      <td>1</td>\n",
       "      <td>1</td>\n",
       "      <td>10.489153</td>\n",
       "      <td>11.58500</td>\n",
       "      <td>48.3333</td>\n",
       "      <td>23.500518</td>\n",
       "      <td>364</td>\n",
       "      <td>1432</td>\n",
       "      <td>1796</td>\n",
       "    </tr>\n",
       "    <tr>\n",
       "      <th>729</th>\n",
       "      <td>730</td>\n",
       "      <td>1</td>\n",
       "      <td>1</td>\n",
       "      <td>12</td>\n",
       "      <td>0</td>\n",
       "      <td>2</td>\n",
       "      <td>1</td>\n",
       "      <td>2</td>\n",
       "      <td>8.849153</td>\n",
       "      <td>11.17435</td>\n",
       "      <td>57.7500</td>\n",
       "      <td>10.374682</td>\n",
       "      <td>439</td>\n",
       "      <td>2290</td>\n",
       "      <td>2729</td>\n",
       "    </tr>\n",
       "  </tbody>\n",
       "</table>\n",
       "<p>647 rows × 15 columns</p>\n",
       "</div>"
      ],
      "text/plain": [
       "     instant  season  yr  mnth  holiday  weekday  workingday  weathersit  \\\n",
       "0          1       1   0     1        0        1           1           2   \n",
       "1          2       1   0     1        0        2           1           2   \n",
       "2          3       1   0     1        0        3           1           1   \n",
       "3          4       1   0     1        0        4           1           1   \n",
       "4          5       1   0     1        0        5           1           1   \n",
       "..       ...     ...  ..   ...      ...      ...         ...         ...   \n",
       "725      726       1   1    12        0        5           1           2   \n",
       "726      727       1   1    12        0        6           0           2   \n",
       "727      728       1   1    12        0        0           0           2   \n",
       "728      729       1   1    12        0        1           1           1   \n",
       "729      730       1   1    12        0        2           1           2   \n",
       "\n",
       "          temp     atemp      hum  windspeed  casual  registered   cnt  \n",
       "0    14.110847  18.18125  80.5833  10.749882     331         654   985  \n",
       "1    14.902598  17.68695  69.6087  16.652113     131         670   801  \n",
       "2     8.050924   9.47025  43.7273  16.636703     120        1229  1349  \n",
       "3     8.200000  10.60610  59.0435  10.739832     108        1454  1562  \n",
       "4     9.305237  11.46350  43.6957  12.522300      82        1518  1600  \n",
       "..         ...       ...      ...        ...     ...         ...   ...  \n",
       "725  10.420847  11.33210  65.2917  23.458911     247        1867  2114  \n",
       "726  10.386653  12.75230  59.0000  10.416557     644        2451  3095  \n",
       "727  10.386653  12.12000  75.2917   8.333661     159        1182  1341  \n",
       "728  10.489153  11.58500  48.3333  23.500518     364        1432  1796  \n",
       "729   8.849153  11.17435  57.7500  10.374682     439        2290  2729  \n",
       "\n",
       "[647 rows x 15 columns]"
      ]
     },
     "execution_count": 5,
     "metadata": {},
     "output_type": "execute_result"
    }
   ],
   "source": [
    "hum=data.loc[data['hum']>25]\n",
    "windspeed=hum.loc[hum['windspeed']<25]\n",
    "casual=windspeed.loc[windspeed['casual']<2000]\n",
    "data=casual\n",
    "data"
   ]
  },
  {
   "cell_type": "code",
   "execution_count": 6,
   "id": "9c5631bb",
   "metadata": {},
   "outputs": [
    {
     "data": {
      "text/plain": [
       "<AxesSubplot:>"
      ]
     },
     "execution_count": 6,
     "metadata": {},
     "output_type": "execute_result"
    },
    {
     "data": {
      "image/png": "[encoded data removed]",
      "text/plain": [
       "<Figure size 432x288 with 2 Axes>"
      ]
     },
     "metadata": {
      "needs_background": "light"
     },
     "output_type": "display_data"
    }
   ],
   "source": [
    "correlation=data.corr()\n",
    "sns.heatmap(data=correlation,square=True,cmap='bwr')"
   ]
  },
  {
   "cell_type": "code",
   "execution_count": 7,
   "id": "85020b95",
   "metadata": {},
   "outputs": [
    {
     "data": {
      "text/html": [
       "<div>\n",
       "<style scoped>\n",
       "    .dataframe tbody tr th:only-of-type {\n",
       "        vertical-align: middle;\n",
       "    }\n",
       "\n",
       "    .dataframe tbody tr th {\n",
       "        vertical-align: top;\n",
       "    }\n",
       "\n",
       "    .dataframe thead th {\n",
       "        text-align: right;\n",
       "    }\n",
       "</style>\n",
       "<table border=\"1\" class=\"dataframe\">\n",
       "  <thead>\n",
       "    <tr style=\"text-align: right;\">\n",
       "      <th></th>\n",
       "      <th>instant</th>\n",
       "      <th>season</th>\n",
       "      <th>yr</th>\n",
       "      <th>mnth</th>\n",
       "      <th>holiday</th>\n",
       "      <th>weekday</th>\n",
       "      <th>workingday</th>\n",
       "      <th>weathersit</th>\n",
       "      <th>temp</th>\n",
       "      <th>atemp</th>\n",
       "      <th>hum</th>\n",
       "      <th>windspeed</th>\n",
       "      <th>casual</th>\n",
       "      <th>registered</th>\n",
       "      <th>cnt</th>\n",
       "    </tr>\n",
       "  </thead>\n",
       "  <tbody>\n",
       "    <tr>\n",
       "      <th>instant</th>\n",
       "      <td>1.000000</td>\n",
       "      <td>0.423641</td>\n",
       "      <td>0.860359</td>\n",
       "      <td>0.506536</td>\n",
       "      <td>0.022220</td>\n",
       "      <td>0.095987</td>\n",
       "      <td>0.043833</td>\n",
       "      <td>0.002155</td>\n",
       "      <td>0.144138</td>\n",
       "      <td>0.146092</td>\n",
       "      <td>0.028213</td>\n",
       "      <td>-0.128328</td>\n",
       "      <td>0.213011</td>\n",
       "      <td>0.663019</td>\n",
       "      <td>0.623119</td>\n",
       "    </tr>\n",
       "    <tr>\n",
       "      <th>season</th>\n",
       "      <td>0.423641</td>\n",
       "      <td>1.000000</td>\n",
       "      <td>0.000438</td>\n",
       "      <td>0.834666</td>\n",
       "      <td>-0.016118</td>\n",
       "      <td>0.033742</td>\n",
       "      <td>0.025022</td>\n",
       "      <td>0.037430</td>\n",
       "      <td>0.339641</td>\n",
       "      <td>0.346760</td>\n",
       "      <td>0.200327</td>\n",
       "      <td>-0.213865</td>\n",
       "      <td>0.257960</td>\n",
       "      <td>0.416137</td>\n",
       "      <td>0.422080</td>\n",
       "    </tr>\n",
       "    <tr>\n",
       "      <th>yr</th>\n",
       "      <td>0.860359</td>\n",
       "      <td>0.000438</td>\n",
       "      <td>1.000000</td>\n",
       "      <td>-0.001668</td>\n",
       "      <td>0.012321</td>\n",
       "      <td>0.104267</td>\n",
       "      <td>0.048956</td>\n",
       "      <td>-0.030013</td>\n",
       "      <td>0.033772</td>\n",
       "      <td>0.032173</td>\n",
       "      <td>-0.099513</td>\n",
       "      <td>-0.027308</td>\n",
       "      <td>0.151112</td>\n",
       "      <td>0.596739</td>\n",
       "      <td>0.550702</td>\n",
       "    </tr>\n",
       "    <tr>\n",
       "      <th>mnth</th>\n",
       "      <td>0.506536</td>\n",
       "      <td>0.834666</td>\n",
       "      <td>-0.001668</td>\n",
       "      <td>1.000000</td>\n",
       "      <td>0.022261</td>\n",
       "      <td>0.010864</td>\n",
       "      <td>0.002733</td>\n",
       "      <td>0.055966</td>\n",
       "      <td>0.226757</td>\n",
       "      <td>0.233799</td>\n",
       "      <td>0.222282</td>\n",
       "      <td>-0.206073</td>\n",
       "      <td>0.165780</td>\n",
       "      <td>0.297270</td>\n",
       "      <td>0.296903</td>\n",
       "    </tr>\n",
       "    <tr>\n",
       "      <th>holiday</th>\n",
       "      <td>0.022220</td>\n",
       "      <td>-0.016118</td>\n",
       "      <td>0.012321</td>\n",
       "      <td>0.022261</td>\n",
       "      <td>1.000000</td>\n",
       "      <td>-0.043209</td>\n",
       "      <td>-0.264325</td>\n",
       "      <td>-0.040919</td>\n",
       "      <td>-0.062219</td>\n",
       "      <td>-0.066475</td>\n",
       "      <td>-0.023796</td>\n",
       "      <td>0.038202</td>\n",
       "      <td>0.033273</td>\n",
       "      <td>-0.120833</td>\n",
       "      <td>-0.095585</td>\n",
       "    </tr>\n",
       "    <tr>\n",
       "      <th>weekday</th>\n",
       "      <td>0.095987</td>\n",
       "      <td>0.033742</td>\n",
       "      <td>0.104267</td>\n",
       "      <td>0.010864</td>\n",
       "      <td>-0.043209</td>\n",
       "      <td>1.000000</td>\n",
       "      <td>-0.056869</td>\n",
       "      <td>-0.016749</td>\n",
       "      <td>0.113606</td>\n",
       "      <td>0.105600</td>\n",
       "      <td>-0.014542</td>\n",
       "      <td>-0.026324</td>\n",
       "      <td>-0.158113</td>\n",
       "      <td>0.269735</td>\n",
       "      <td>0.192469</td>\n",
       "    </tr>\n",
       "    <tr>\n",
       "      <th>workingday</th>\n",
       "      <td>0.043833</td>\n",
       "      <td>0.025022</td>\n",
       "      <td>0.048956</td>\n",
       "      <td>0.002733</td>\n",
       "      <td>-0.264325</td>\n",
       "      <td>-0.056869</td>\n",
       "      <td>1.000000</td>\n",
       "      <td>-0.022896</td>\n",
       "      <td>0.019313</td>\n",
       "      <td>0.028529</td>\n",
       "      <td>0.036303</td>\n",
       "      <td>0.004626</td>\n",
       "      <td>0.020824</td>\n",
       "      <td>0.042914</td>\n",
       "      <td>0.042086</td>\n",
       "    </tr>\n",
       "    <tr>\n",
       "      <th>weathersit</th>\n",
       "      <td>0.002155</td>\n",
       "      <td>0.037430</td>\n",
       "      <td>-0.030013</td>\n",
       "      <td>0.055966</td>\n",
       "      <td>-0.040919</td>\n",
       "      <td>-0.016749</td>\n",
       "      <td>-0.022896</td>\n",
       "      <td>1.000000</td>\n",
       "      <td>-0.116506</td>\n",
       "      <td>-0.118631</td>\n",
       "      <td>0.627303</td>\n",
       "      <td>0.069155</td>\n",
       "      <td>-0.285575</td>\n",
       "      <td>-0.259534</td>\n",
       "      <td>-0.294333</td>\n",
       "    </tr>\n",
       "    <tr>\n",
       "      <th>temp</th>\n",
       "      <td>0.144138</td>\n",
       "      <td>0.339641</td>\n",
       "      <td>0.033772</td>\n",
       "      <td>0.226757</td>\n",
       "      <td>-0.062219</td>\n",
       "      <td>0.113606</td>\n",
       "      <td>0.019313</td>\n",
       "      <td>-0.116506</td>\n",
       "      <td>1.000000</td>\n",
       "      <td>0.991388</td>\n",
       "      <td>0.124131</td>\n",
       "      <td>-0.134785</td>\n",
       "      <td>0.638249</td>\n",
       "      <td>0.553788</td>\n",
       "      <td>0.635245</td>\n",
       "    </tr>\n",
       "    <tr>\n",
       "      <th>atemp</th>\n",
       "      <td>0.146092</td>\n",
       "      <td>0.346760</td>\n",
       "      <td>0.032173</td>\n",
       "      <td>0.233799</td>\n",
       "      <td>-0.066475</td>\n",
       "      <td>0.105600</td>\n",
       "      <td>0.028529</td>\n",
       "      <td>-0.118631</td>\n",
       "      <td>0.991388</td>\n",
       "      <td>1.000000</td>\n",
       "      <td>0.136463</td>\n",
       "      <td>-0.161043</td>\n",
       "      <td>0.634373</td>\n",
       "      <td>0.555768</td>\n",
       "      <td>0.635981</td>\n",
       "    </tr>\n",
       "    <tr>\n",
       "      <th>hum</th>\n",
       "      <td>0.028213</td>\n",
       "      <td>0.200327</td>\n",
       "      <td>-0.099513</td>\n",
       "      <td>0.222282</td>\n",
       "      <td>-0.023796</td>\n",
       "      <td>-0.014542</td>\n",
       "      <td>0.036303</td>\n",
       "      <td>0.627303</td>\n",
       "      <td>0.124131</td>\n",
       "      <td>0.136463</td>\n",
       "      <td>1.000000</td>\n",
       "      <td>-0.212412</td>\n",
       "      <td>-0.085477</td>\n",
       "      <td>-0.111530</td>\n",
       "      <td>-0.117197</td>\n",
       "    </tr>\n",
       "    <tr>\n",
       "      <th>windspeed</th>\n",
       "      <td>-0.128328</td>\n",
       "      <td>-0.213865</td>\n",
       "      <td>-0.027308</td>\n",
       "      <td>-0.206073</td>\n",
       "      <td>0.038202</td>\n",
       "      <td>-0.026324</td>\n",
       "      <td>0.004626</td>\n",
       "      <td>0.069155</td>\n",
       "      <td>-0.134785</td>\n",
       "      <td>-0.161043</td>\n",
       "      <td>-0.212412</td>\n",
       "      <td>1.000000</td>\n",
       "      <td>-0.159041</td>\n",
       "      <td>-0.202162</td>\n",
       "      <td>-0.213458</td>\n",
       "    </tr>\n",
       "    <tr>\n",
       "      <th>casual</th>\n",
       "      <td>0.213011</td>\n",
       "      <td>0.257960</td>\n",
       "      <td>0.151112</td>\n",
       "      <td>0.165780</td>\n",
       "      <td>0.033273</td>\n",
       "      <td>-0.158113</td>\n",
       "      <td>0.020824</td>\n",
       "      <td>-0.285575</td>\n",
       "      <td>0.638249</td>\n",
       "      <td>0.634373</td>\n",
       "      <td>-0.085477</td>\n",
       "      <td>-0.159041</td>\n",
       "      <td>1.000000</td>\n",
       "      <td>0.463505</td>\n",
       "      <td>0.647831</td>\n",
       "    </tr>\n",
       "    <tr>\n",
       "      <th>registered</th>\n",
       "      <td>0.663019</td>\n",
       "      <td>0.416137</td>\n",
       "      <td>0.596739</td>\n",
       "      <td>0.297270</td>\n",
       "      <td>-0.120833</td>\n",
       "      <td>0.269735</td>\n",
       "      <td>0.042914</td>\n",
       "      <td>-0.259534</td>\n",
       "      <td>0.553788</td>\n",
       "      <td>0.555768</td>\n",
       "      <td>-0.111530</td>\n",
       "      <td>-0.202162</td>\n",
       "      <td>0.463505</td>\n",
       "      <td>1.000000</td>\n",
       "      <td>0.975285</td>\n",
       "    </tr>\n",
       "    <tr>\n",
       "      <th>cnt</th>\n",
       "      <td>0.623119</td>\n",
       "      <td>0.422080</td>\n",
       "      <td>0.550702</td>\n",
       "      <td>0.296903</td>\n",
       "      <td>-0.095585</td>\n",
       "      <td>0.192469</td>\n",
       "      <td>0.042086</td>\n",
       "      <td>-0.294333</td>\n",
       "      <td>0.635245</td>\n",
       "      <td>0.635981</td>\n",
       "      <td>-0.117197</td>\n",
       "      <td>-0.213458</td>\n",
       "      <td>0.647831</td>\n",
       "      <td>0.975285</td>\n",
       "      <td>1.000000</td>\n",
       "    </tr>\n",
       "  </tbody>\n",
       "</table>\n",
       "</div>"
      ],
      "text/plain": [
       "             instant    season        yr      mnth   holiday   weekday  \\\n",
       "instant     1.000000  0.423641  0.860359  0.506536  0.022220  0.095987   \n",
       "season      0.423641  1.000000  0.000438  0.834666 -0.016118  0.033742   \n",
       "yr          0.860359  0.000438  1.000000 -0.001668  0.012321  0.104267   \n",
       "mnth        0.506536  0.834666 -0.001668  1.000000  0.022261  0.010864   \n",
       "holiday     0.022220 -0.016118  0.012321  0.022261  1.000000 -0.043209   \n",
       "weekday     0.095987  0.033742  0.104267  0.010864 -0.043209  1.000000   \n",
       "workingday  0.043833  0.025022  0.048956  0.002733 -0.264325 -0.056869   \n",
       "weathersit  0.002155  0.037430 -0.030013  0.055966 -0.040919 -0.016749   \n",
       "temp        0.144138  0.339641  0.033772  0.226757 -0.062219  0.113606   \n",
       "atemp       0.146092  0.346760  0.032173  0.233799 -0.066475  0.105600   \n",
       "hum         0.028213  0.200327 -0.099513  0.222282 -0.023796 -0.014542   \n",
       "windspeed  -0.128328 -0.213865 -0.027308 -0.206073  0.038202 -0.026324   \n",
       "casual      0.213011  0.257960  0.151112  0.165780  0.033273 -0.158113   \n",
       "registered  0.663019  0.416137  0.596739  0.297270 -0.120833  0.269735   \n",
       "cnt         0.623119  0.422080  0.550702  0.296903 -0.095585  0.192469   \n",
       "\n",
       "            workingday  weathersit      temp     atemp       hum  windspeed  \\\n",
       "instant       0.043833    0.002155  0.144138  0.146092  0.028213  -0.128328   \n",
       "season        0.025022    0.037430  0.339641  0.346760  0.200327  -0.213865   \n",
       "yr            0.048956   -0.030013  0.033772  0.032173 -0.099513  -0.027308   \n",
       "mnth          0.002733    0.055966  0.226757  0.233799  0.222282  -0.206073   \n",
       "holiday      -0.264325   -0.040919 -0.062219 -0.066475 -0.023796   0.038202   \n",
       "weekday      -0.056869   -0.016749  0.113606  0.105600 -0.014542  -0.026324   \n",
       "workingday    1.000000   -0.022896  0.019313  0.028529  0.036303   0.004626   \n",
       "weathersit   -0.022896    1.000000 -0.116506 -0.118631  0.627303   0.069155   \n",
       "temp          0.019313   -0.116506  1.000000  0.991388  0.124131  -0.134785   \n",
       "atemp         0.028529   -0.118631  0.991388  1.000000  0.136463  -0.161043   \n",
       "hum           0.036303    0.627303  0.124131  0.136463  1.000000  -0.212412   \n",
       "windspeed     0.004626    0.069155 -0.134785 -0.161043 -0.212412   1.000000   \n",
       "casual        0.020824   -0.285575  0.638249  0.634373 -0.085477  -0.159041   \n",
       "registered    0.042914   -0.259534  0.553788  0.555768 -0.111530  -0.202162   \n",
       "cnt           0.042086   -0.294333  0.635245  0.635981 -0.117197  -0.213458   \n",
       "\n",
       "              casual  registered       cnt  \n",
       "instant     0.213011    0.663019  0.623119  \n",
       "season      0.257960    0.416137  0.422080  \n",
       "yr          0.151112    0.596739  0.550702  \n",
       "mnth        0.165780    0.297270  0.296903  \n",
       "holiday     0.033273   -0.120833 -0.095585  \n",
       "weekday    -0.158113    0.269735  0.192469  \n",
       "workingday  0.020824    0.042914  0.042086  \n",
       "weathersit -0.285575   -0.259534 -0.294333  \n",
       "temp        0.638249    0.553788  0.635245  \n",
       "atemp       0.634373    0.555768  0.635981  \n",
       "hum        -0.085477   -0.111530 -0.117197  \n",
       "windspeed  -0.159041   -0.202162 -0.213458  \n",
       "casual      1.000000    0.463505  0.647831  \n",
       "registered  0.463505    1.000000  0.975285  \n",
       "cnt         0.647831    0.975285  1.000000  "
      ]
     },
     "execution_count": 7,
     "metadata": {},
     "output_type": "execute_result"
    }
   ],
   "source": [
    "correlation"
   ]
  },
  {
   "cell_type": "code",
   "execution_count": 8,
   "id": "34096b4c",
   "metadata": {},
   "outputs": [],
   "source": [
    "lin=LinearRegression()"
   ]
  },
  {
   "cell_type": "code",
   "execution_count": 9,
   "id": "0f3fe6b7",
   "metadata": {},
   "outputs": [
    {
     "data": {
      "text/plain": [
       "array([11,  7,  1,  3,  2,  5,  6,  8,  9,  4, 12, 10,  1,  1])"
      ]
     },
     "execution_count": 9,
     "metadata": {},
     "output_type": "execute_result"
    }
   ],
   "source": [
    "x=data.drop(['cnt'],axis=1)\n",
    "y=data['cnt']\n",
    "rfe=RFE(lin,n_features_to_select=3,step=1)\n",
    "rfe=rfe.fit(x,y)\n",
    "rfe.ranking_"
   ]
  },
  {
   "cell_type": "code",
   "execution_count": 10,
   "id": "fa81ba02",
   "metadata": {},
   "outputs": [
    {
     "data": {
      "text/plain": [
       "LinearRegression()"
      ]
     },
     "execution_count": 10,
     "metadata": {},
     "output_type": "execute_result"
    }
   ],
   "source": [
    "x=data[['yr','casual','registered']]\n",
    "y=data['cnt']\n",
    "xtrain,xtest,ytrain,ytest=train_test_split(x,y,test_size=0.3,random_state=4)\n",
    "lin.fit(xtrain,ytrain)"
   ]
  },
  {
   "cell_type": "code",
   "execution_count": 11,
   "id": "2e52a0a5",
   "metadata": {},
   "outputs": [],
   "source": [
    "pred=lin.predict(xtest)\n",
    "r1=r2_score(pred,ytest)"
   ]
  },
  {
   "cell_type": "code",
   "execution_count": 12,
   "id": "7aad84d6",
   "metadata": {},
   "outputs": [],
   "source": [
    "def adjusted_r2(r,n,p):\n",
    "    return ((r-(p/(n-1)))*((n-1)/(n-p-1)))"
   ]
  },
  {
   "cell_type": "code",
   "execution_count": 20,
   "id": "beb7798a",
   "metadata": {},
   "outputs": [
    {
     "data": {
      "text/plain": [
       "1.0"
      ]
     },
     "execution_count": 20,
     "metadata": {},
     "output_type": "execute_result"
    }
   ],
   "source": [
    "adjusted_r2(r1,647,3)"
   ]
  },
  {
   "cell_type": "code",
   "execution_count": 14,
   "id": "51eb0ffd",
   "metadata": {},
   "outputs": [
    {
     "name": "stdout",
     "output_type": "stream",
     "text": [
      "       feature          VIF\n",
      "0      instant  2102.516416\n",
      "1       season    24.236811\n",
      "2           yr   782.390365\n",
      "3         mnth   654.004205\n",
      "4      holiday     1.169840\n",
      "5      weekday     4.656602\n",
      "6   workingday     3.680365\n",
      "7   weathersit    15.713960\n",
      "8         temp   463.495737\n",
      "9        atemp   530.153188\n",
      "10         hum    32.111730\n",
      "11   windspeed     6.157870\n",
      "12      casual     6.959629\n",
      "13  registered    28.029100\n"
     ]
    }
   ],
   "source": [
    "x=data.drop(['cnt'],axis=1)\n",
    "vif_data = pd.DataFrame()\n",
    "vif_data[\"feature\"] = x.columns\n",
    "  \n",
    "# calculating VIF for each feature\n",
    "vif_data[\"VIF\"] = [variance_inflation_factor(x.values, i)for i in range(len(x.columns))]\n",
    "  \n",
    "print(vif_data)"
   ]
  },
  {
   "cell_type": "code",
   "execution_count": 15,
   "id": "4a4ef0d6",
   "metadata": {},
   "outputs": [
    {
     "data": {
      "text/plain": [
       "LinearRegression()"
      ]
     },
     "execution_count": 15,
     "metadata": {},
     "output_type": "execute_result"
    }
   ],
   "source": [
    "x=data[['weekday','holiday','workingday']]\n",
    "y=data['cnt']\n",
    "xtrain,xtest,ytrain,ytest=train_test_split(x,y,test_size=0.3,random_state=4)\n",
    "lin.fit(xtrain,ytrain)"
   ]
  },
  {
   "cell_type": "code",
   "execution_count": 16,
   "id": "82801d4a",
   "metadata": {},
   "outputs": [],
   "source": [
    "pred=lin.predict(xtest)\n",
    "r2=r2_score(pred,ytest)"
   ]
  },
  {
   "cell_type": "code",
   "execution_count": 17,
   "id": "c5c4db1d",
   "metadata": {},
   "outputs": [
    {
     "data": {
      "text/plain": [
       "-15.132033216697248"
      ]
     },
     "execution_count": 17,
     "metadata": {},
     "output_type": "execute_result"
    }
   ],
   "source": [
    "adjusted_r2(r2,647,3)"
   ]
  },
  {
   "cell_type": "code",
   "execution_count": 18,
   "id": "4769c505",
   "metadata": {},
   "outputs": [
    {
     "data": {
      "text/plain": [
       "(1.0, -15.05711665377141)"
      ]
     },
     "execution_count": 18,
     "metadata": {},
     "output_type": "execute_result"
    }
   ],
   "source": [
    "r1,r2"
   ]
  }
 ],
 "metadata": {
  "kernelspec": {
   "display_name": "Python 3 (ipykernel)",
   "language": "python",
   "name": "python3"
  },
  "language_info": {
   "codemirror_mode": {
    "name": "ipython",
    "version": 3
   },
   "file_extension": ".py",
   "mimetype": "text/x-python",
   "name": "python",
   "nbconvert_exporter": "python",
   "pygments_lexer": "ipython3",
   "version": "3.9.7"
  }
 },
 "nbformat": 4,
 "nbformat_minor": 5
}
